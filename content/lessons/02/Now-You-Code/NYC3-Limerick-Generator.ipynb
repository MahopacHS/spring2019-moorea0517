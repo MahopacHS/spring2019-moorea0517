{
  "cells": [
    {
      "metadata": {},
      "cell_type": "markdown",
      "source": "# Now You Code 3: Limerick Generator\n\nWe will write code in this example to create the first two lines of a [Limerick](https://en.wikipedia.org/wiki/Limerick_(poetry)). We're going to keep it really simple, and ask for 4 inputs:\n- a woman's name  \n- a place\n- an item\n- a material \n\nThe place and material must rhyme. The Python program will then output the first two lines of the limerick, substituting the values you've entered. \n\n**Example 1:**\n\nINPUT:\n\n- Enter a woman's name: Jane\n- Enter a place: New York\n- Enter an item: hat\n- Enter a material, which rhymes with 'New York': cork.\n\nOUTPUT:\nI once knew Jane from New York. Her hat was constructed of cork.\n\n**Example 2:**\n\nINPUT:\n\n- Enter a woman's name: Agatha\n- Enter a place: my car\n- Enter an item: bike\n- Enter a material, which rhymes with 'my car': tar\n\nOUTPUT: \nI once knew Agatha from my car. Her bike was constructed of tar.\n"
    },
    {
      "metadata": {
        "collapsed": true
      },
      "cell_type": "markdown",
      "source": "## Step 1: Problem Analysis\n\nInputs:name, place, item, and material that rhymes\n\nOutputs:lymric\n\nAlgorithm (Steps in Program): no algorithm"
    },
    {
      "metadata": {
        "trusted": true
      },
      "cell_type": "code",
      "source": "# Step 2: Write code here\nprint(\"enter a woman's name\")\nname = input()\nprint(\"enter the name of a place\")\nplace = input()\nprint(\"enter the name of an item\")\nitem = input()\nprint(\"enter a material that rhymes with\", place)\nmaterial = input()\nprint(\"i once knew\", name, \"from\", place, \".\", \"Her\", item, \"was constructed of\", material)\n",
      "execution_count": 1,
      "outputs": [
        {
          "output_type": "stream",
          "text": "enter a woman's name\nmary\nenter the name of a place\nlondon\nenter the name of an item\ngum\nenter a material that rhymes with london\nfundon\ni once knew mary from london . Her gum was constructed of fundon\n",
          "name": "stdout"
        }
      ]
    },
    {
      "metadata": {},
      "cell_type": "markdown",
      "source": "## Step 3: Questions\n\n1. What happens when neglect to follow the instructions and enter any inputs we desire? Does the code still run? Why?\n2. What type of error occurs when the program runs but does not handle bad input?\n3. Is there anything you can do in code to correct this type of error? Why or why not?"
    },
    {
      "metadata": {},
      "cell_type": "markdown",
      "source": "## Reminder of Evaluation Criteria\n\n1. What the problem attempted (analysis, code, and answered questions) ?\n2. What the problem analysis thought out? (does the program match the plan?)\n3. Does the code execute without syntax error?\n4. Does the code solve the intended problem?\n5. Is the code well written? (easy to understand, modular, and self-documenting, handles errors)\n"
    },
    {
      "metadata": {
        "collapsed": true,
        "trusted": false
      },
      "cell_type": "code",
      "source": "",
      "execution_count": null,
      "outputs": []
    }
  ],
  "metadata": {
    "anaconda-cloud": {},
    "kernelspec": {
      "name": "python3",
      "display_name": "Python 3",
      "language": "python"
    },
    "language_info": {
      "mimetype": "text/x-python",
      "nbconvert_exporter": "python",
      "name": "python",
      "file_extension": ".py",
      "version": "3.5.4",
      "pygments_lexer": "ipython3",
      "codemirror_mode": {
        "version": 3,
        "name": "ipython"
      }
    }
  },
  "nbformat": 4,
  "nbformat_minor": 1
}
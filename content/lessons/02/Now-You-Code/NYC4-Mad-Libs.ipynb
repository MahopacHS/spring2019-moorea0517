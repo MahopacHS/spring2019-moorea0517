{
  "cells": [
    {
      "metadata": {},
      "cell_type": "markdown",
      "source": "# Now You Code 4: Mad Libs!\n\nWrite a Python program which creates your own unique Mad-Libs! story.\n\nIf you are not familar with a Mad-Libs! story, check out:\nhttp://www.madlibs.com and http://www.madtakes.com\n\nYour story should take at least 5 inputs, and should include more than\nonce sentence. \n"
    },
    {
      "metadata": {
        "collapsed": true
      },
      "cell_type": "markdown",
      "source": "## Step 1: Problem Analysis\n\nInputs: nouns adjectives and verbs\n\nOutputs: madlib\n\nAlgorithm (Steps in Program): no algorithm"
    },
    {
      "metadata": {
        "trusted": true
      },
      "cell_type": "code",
      "source": "# Step 2: Write code here\nprint(\"input 2 verbs\")\nverb1 = input()\nverb2 = input()\nprint(\"input 4 nouns\")\nnoun1 = input()\nnoun2 = input()\nnoun3 = input()\nnoun4 = input()\nprint(\"enter 5 adjectives\")\nad1 = input()\nad2 = input()\nad3 = input()\nad4 = input()\nad5 = input()\nprint(\"our school cafe has really\", ad1, \"food\")\nprint(\"just thinking of it makes my stomach\", verb1)\nprint(\"the spahgetti is\", ad2, \"and tastes like\", noun1)\nprint(\"one day, i swear one of my meatballs started to\", verb2, \"!\")\nprint(\"the turkey tacos are totally\", ad3, \"and kind of look like old\", noun2)\nprint(\"my friend Dana actually likes the meatloaf, even though it's\", ad4, \"and\", ad5)\nprint(\"i call it mystery meatloaf and i think its actually made out of\", noun3)\nprint(\"my dad said he would make my lunches, but on the first day he made my sandwich out of\", noun4, \"and peanut butter!\")\nprint(\"i think i'd rather take my chances with the school cafeteria\")\n",
      "execution_count": null,
      "outputs": []
    },
    {
      "metadata": {},
      "cell_type": "markdown",
      "source": "## Step 3: Questions\n\n1. What happens when neglect to follow the instructions and enter any inputs we desire? Does the code still run? Why?\nit st\n2. What type of error occurs when the program runs but does not handle bad input?\n3. Is there anything you can do in code to correct this type of error? Why or why not?"
    },
    {
      "metadata": {},
      "cell_type": "markdown",
      "source": "## Reminder of Evaluation Criteria\n\n1. What the problem attempted (analysis, code, and answered questions) ?\n2. What the problem analysis thought out? (does the program match the plan?)\n3. Does the code execute without syntax error?\n4. Does the code solve the intended problem?\n5. Is the code well written? (easy to understand, modular, and self-documenting, handles errors)\n"
    },
    {
      "metadata": {
        "collapsed": true,
        "trusted": false
      },
      "cell_type": "code",
      "source": "",
      "execution_count": null,
      "outputs": []
    }
  ],
  "metadata": {
    "anaconda-cloud": {},
    "kernelspec": {
      "name": "python3",
      "display_name": "Python 3",
      "language": "python"
    },
    "language_info": {
      "mimetype": "text/x-python",
      "nbconvert_exporter": "python",
      "name": "python",
      "file_extension": ".py",
      "version": "3.5.4",
      "pygments_lexer": "ipython3",
      "codemirror_mode": {
        "version": 3,
        "name": "ipython"
      }
    }
  },
  "nbformat": 4,
  "nbformat_minor": 1
}
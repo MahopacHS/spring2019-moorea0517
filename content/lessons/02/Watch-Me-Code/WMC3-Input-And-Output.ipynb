{
  "cells": [
    {
      "metadata": {
        "trusted": false
      },
      "cell_type": "code",
      "source": "name = input(\"Enter your name: \")\nage = input(\"Enter your age: \")\nprint(name, \"is\", age, \"years old\")",
      "execution_count": 1,
      "outputs": [
        {
          "name": "stdout",
          "output_type": "stream",
          "text": "Enter your name: mike\nEnter your age: 45\nmike is 45 years old\n"
        }
      ]
    },
    {
      "metadata": {
        "trusted": true
      },
      "cell_type": "code",
      "source": "",
      "execution_count": null,
      "outputs": []
    },
    {
      "metadata": {
        "trusted": false
      },
      "cell_type": "code",
      "source": "name = input(\"Enter your name: \")\nprint(\"How old are you\", name, \"?\", end = \"\")\nage = input()\nprint (age, \"That's old!\")",
      "execution_count": 2,
      "outputs": [
        {
          "name": "stdout",
          "output_type": "stream",
          "text": "Enter your name: mike\nHow old are you mike ?56\n56 That's old!\n"
        }
      ]
    },
    {
      "metadata": {
        "trusted": true
      },
      "cell_type": "code",
      "source": "# Step 2: Write code here\nprint(\"input 2 verbs\")\nverb1 = input()\nverb2 = input()\nprint(\"input 4 nouns\")\nnoun1 = input()\nnoun2 = input()\nnoun3 = input()\nnoun4 = input()\nprint(\"enter 5 adjectives\")\nad1 = input()\nad2 = input()\nad3 = input()\nad4 = input()\nad5 = input()\nprint(\"our school cafe has really\", ad1, \"food\")\nprint(\"just thinking of it makes my stomach\", verb1)\nprint(\"the spahgetti is\", ad2, \"and tastes like\", noun1)\nprint(\"one day, i swear one of my meatballs started to\", verb2, \"!\")\nprint(\"the turkey tacos are totally\", ad3, \"and kind of look like old\", noun2)\nprint(\"my friend Dana actually likes the meatloaf, even though it's\", ad4, \"and\", ad5)\nprint(\"i call it mystery meatloaf and i think its actually made out of\", noun3)\nprint(\"my dad said he would make my lunches, but on the first day he made my sandwich out of\", noun4, \"and peanut butter!\")\nprint(\"i think i'd rather take my chances with the school cafeteria\")\n",
      "execution_count": 2,
      "outputs": [
        {
          "output_type": "stream",
          "text": "input 2 verbs\novulate\nscream\ninput 4 nouns\nsnake\nshattered glass\npineapple\nthot\nenter 5 adjectives\nslimy\nlarge\ngyrating\nfake\nmidget \nour school cafe has really slimy food\njust thinking of it makes my stomach ovulate\nthe spahgetti is large and tastes like snake\none day, i swear one of my meatballs started to scream !\nthe turkey tacos are totally gyrating and kind of look like old shattered glass\nmy friend Dana actually likes the meatloaf, even though it's fake and midget \ni call it mystery meatloaf and i think its actually made out of pineapple\nmy dad said he would make my lunches, but on the first day he made my sandwich out of thot and peanut butter!\ni think i'd rather take my chances with the school cafeteria\n",
          "name": "stdout"
        }
      ]
    },
    {
      "metadata": {
        "trusted": true
      },
      "cell_type": "code",
      "source": "",
      "execution_count": null,
      "outputs": []
    }
  ],
  "metadata": {
    "kernelspec": {
      "name": "python3",
      "display_name": "Python 3",
      "language": "python"
    },
    "language_info": {
      "mimetype": "text/x-python",
      "nbconvert_exporter": "python",
      "name": "python",
      "pygments_lexer": "ipython3",
      "version": "3.5.4",
      "file_extension": ".py",
      "codemirror_mode": {
        "version": 3,
        "name": "ipython"
      }
    }
  },
  "nbformat": 4,
  "nbformat_minor": 2
}
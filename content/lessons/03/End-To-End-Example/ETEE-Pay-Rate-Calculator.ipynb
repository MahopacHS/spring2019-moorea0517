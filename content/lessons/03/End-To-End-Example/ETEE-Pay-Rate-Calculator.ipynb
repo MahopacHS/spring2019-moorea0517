{
  "cells": [
    {
      "metadata": {},
      "cell_type": "markdown",
      "source": "# End-To-End Example: Pay Rate Calculator\nWrite a program to prompt for inputs hourly rate and hours worked, then output total pay. Then input tax rate and output net pay.\n\nProcedure:\n\n- write to do list\n- write initial code\n- re-write code to be better"
    },
    {
      "metadata": {
        "trusted": false
      },
      "cell_type": "code",
      "source": "# TODO List:\nhourly_rate = float(input(\"Enter hourly rate: \")) # input hourly rate\nhours_worked = float(input(\"Enter Hours Worked: \")) # input hours worked\ntotal_pay = hourly_rate * hours_worked # calculate total pay\nprint(\"Total Pay: $%.2f\" % (total_pay)) # output total pay\ntax_rate = float(input(\"Enter Tax Rate: \")) # input tax rate\nnet_pay = (1- tax_rate) * total_pay # calculate net pay\nprint(\"Net Pay: $%.2f\" % (net_pay)) # output net pay",
      "execution_count": 5,
      "outputs": [
        {
          "name": "stdout",
          "output_type": "stream",
          "text": "Enter hourly rate: 10\nEnter Hours Worked: 100\nTotal Pay: $1000.00\nEnter Tax Rate: 0.15\nNet Pay: $850.00\n"
        }
      ]
    },
    {
      "metadata": {
        "collapsed": true,
        "trusted": false
      },
      "cell_type": "code",
      "source": "",
      "execution_count": null,
      "outputs": []
    }
  ],
  "metadata": {
    "anaconda-cloud": {},
    "kernelspec": {
      "name": "python3",
      "display_name": "Python 3",
      "language": "python"
    },
    "language_info": {
      "mimetype": "text/x-python",
      "nbconvert_exporter": "python",
      "name": "python",
      "file_extension": ".py",
      "version": "3.5.4",
      "pygments_lexer": "ipython3",
      "codemirror_mode": {
        "version": 3,
        "name": "ipython"
      }
    }
  },
  "nbformat": 4,
  "nbformat_minor": 1
}
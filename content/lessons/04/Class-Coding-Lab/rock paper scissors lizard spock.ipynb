{
  "cells": [
    {
      "metadata": {
        "trusted": true
      },
      "cell_type": "code",
      "source": "import random\nchoices = ['rock','paper','scissors','lizard','spock']\nplchoices = ['rock', 'paper', 'scissors', 'gun','lizard','spock']\ncomputer = random.choice(choices)\n\nyou = input(\"Enter your choice: rock, paper, scissors, lizard, or spock: \")\nif (you in plchoices):  \n    print(\"You chose %s and the computer chose %s\" % (you,computer))\n\n    if (you == 'rock' and computer == 'scissors'):\n        print(\"You win! Rock smashes scissors.\")\n    elif (you == 'rock' and computer=='paper'):\n        print(\"You lose! Paper covers rock.\")\n    elif (you=='rock' and computer=='spock'):\n        print(\"You lose! Spock vaporizes rock.\")\n    elif (you=='rock' and computer=='lizard'):\n        print(\"You win! Rock crushes lizard\")\n    elif (you == 'paper' and computer =='rock'):\n        print(\"You win! Paper covers rock.\")\n    elif (you == 'paper' and computer == 'scissors'):\n        print(\"You lose! Scissors cut paper.\")\n    elif (you=='paper' and computer=='spock'):\n        print(\"You win! Paper disproves Spock\")\n    elif (you==\"paper\" and computer=='lizard'):\n        print(\"You lose! Lizard eats paper\")\n    elif (you== 'scissors' and computer == 'paper'):\n        print(\"You win! Scissors cut paper.\")\n    elif (you==\"scissors\" and computer==\"rock\"):\n        print(\"You lose! Rock smashes scissors\")\n    elif (you=='scissors' and computer=='spock'):\n        print(\"You lose! Spock smashes scissors\")\n    elif (you=='scissors' and computer=='lizard'):\n        print(\"You win! Scissors decapitate lizard\")\n    elif (you=='spock' and computer=='rock'):\n        print(\"You win! Spock vaporizes rock\")\n    elif (you=='spock' and computer=='paper'):\n        print(\"You lose! Paper disproves Spock\")\n    elif (you=='spock' and computer=='scissors'):\n        print(\"You win! Spock crushes scissors\")\n    elif (you=='spock' and computer=='lizard'):\n        print(\"You lose! Lizard poisons Spock\")\n    elif (you=='lizard' and computer=='rock'):\n        print(\"You lose! Rock crushes lizard\")\n    elif (you=='lizard' and computer=='paper'):\n        print(\"You win! Lizard eats paper\")\n    elif (you=='lizard' and computer=='scissors'):\n        print(\"You lose! Scissor decapitates lizard\")\n    elif (you=='lizard' and computer=='spock'):\n        print(\"You win! Lizard poisons Spock\")\n    elif (you==\"gun\"):\n        print(\"You win! You shot the computer.\")\n    else:\n        print(\"It's a tie!\")    \nelse: \n    print(\"You didn't enter 'rock', 'paper' or 'scissors'!!!\")",
      "execution_count": null,
      "outputs": []
    },
    {
      "metadata": {
        "trusted": true
      },
      "cell_type": "code",
      "source": "",
      "execution_count": null,
      "outputs": []
    },
    {
      "metadata": {
        "trusted": true
      },
      "cell_type": "code",
      "source": "",
      "execution_count": null,
      "outputs": []
    }
  ],
  "metadata": {
    "kernelspec": {
      "name": "python36",
      "display_name": "Python 3.6",
      "language": "python"
    }
  },
  "nbformat": 4,
  "nbformat_minor": 2
}
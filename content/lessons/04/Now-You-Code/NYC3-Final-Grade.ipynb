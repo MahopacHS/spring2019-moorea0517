{
  "cells": [
    {
      "metadata": {},
      "cell_type": "markdown",
      "source": "# Now You Code 3: Final Grade in IST256\n\n# Part 1\n\nOur Course Syllabus has a grading scale here:\n\nhttp://ist256.syr.edu/syllabus/#grading-scale\n\nWrite a Python program to input a number of points earned out of 600 and then\noutputs the registrar letter grade. \n\nFor example:\n\n    IST256 Grade Calculator\n    Enter total points out of 600:  550\n    Grade: A- \n"
    },
    {
      "metadata": {
        "collapsed": true
      },
      "cell_type": "markdown",
      "source": "## Step 1: Problem Analysis\n\nInputs: total points\n\nOutputs: letter grade\n\nAlgorithm (Steps in Program):convert to letter grade\n\n\n"
    },
    {
      "metadata": {
        "trusted": true
      },
      "cell_type": "code",
      "source": "#Step 2: write code here\ntry:\n    points=int(input(\"enter total points out of 600\"))\n    if (points>=570):\n        print(\"Grade:A\")\n    elif (points>=540 and points<570):\n        print(\"Grade:A-\")\n    elif (points>=510 and points<540):\n        print(\"Grade:B+\")\n    elif (points>=480 and points <510):\n        print(\"Grade:B\")\n    elif (points>=450 and points<480):\n        print(\"Grade:B-\")\n    elif (points>=420 and points<450):\n        print(\"Grade:C+\")\n    elif (points>=390 and points<420):\n        print(\"Grade:C\")\n    elif (points>=360 and points<390):\n        print(\"Grade:C-\")\n    elif (points>=300 and points<360):\n        print(\"Grade:D\")\n    elif (points<300):\n        print(\"Grade:F\")\n    else:\n        print(\"incorrect input\")\nexcept:\n    print(\"incorrect input\")",
      "execution_count": 3,
      "outputs": [
        {
          "output_type": "stream",
          "name": "stdout",
          "text": "enter total points out of 600540\nGrade:A-\n"
        }
      ]
    },
    {
      "metadata": {},
      "cell_type": "markdown",
      "source": "# Part 2\n\nNow that you got it working,  re-write your code to handle bad input. Specifically:\n\n\n- non integer values\n- integer values outside the 0 to 600 range.\n\n**Note:** Exception handling is not part of our algorithm. It's a programming concern, not a problem-solving concern!"
    },
    {
      "metadata": {
        "trusted": false
      },
      "cell_type": "code",
      "source": "## Step 2 (again): write code again but handle errors with try...except\ntry:\n    points=int(input(\"enter total points out of 600\"))\n    if (points>=570):\n        print(\"Grade:A\")\n    elif (points>=540 and points<570):\n        print(\"Grade:A-\")\n    elif (points>=510 and points<540):\n        print(\"Grade:B+\")\n    elif (points>=480 and points <510):\n        print(\"Grade:B\")\n    elif (points>=450 and points<480):\n        print(\"Grade:B-\")\n    elif (points>=420 and points<450):\n        print(\"Grade:C+\")\n    elif (points>=390 and points<420):\n        print(\"Grade:C\")\n    elif (points>=360 and points<390):\n        print(\"Grade:C-\")\n    elif (points>=300 and points<360):\n        print(\"Grade:D\")\n    elif (points<300):\n        print(\"Grade:F\")\n    else:\n        print(\"incorrect input\")\nexcept:\n    print(\"incorrect input\")\n",
      "execution_count": 1,
      "outputs": []
    },
    {
      "metadata": {},
      "cell_type": "markdown",
      "source": "## Step 3: Questions\n\n1. What specific Python Error are we handling (please provide the name of it)?\nvalue error\n2. How many times must you execute this program and check the output before you canbe reasonably assured your code is correct? Explain.\n11 times, one for each letter g\n3. When testing this program do you think its more important to test numbers in the middle of the grade range or exactly on the boundary between one grade range and the next. Justify your response."
    },
    {
      "metadata": {},
      "cell_type": "markdown",
      "source": "## Reminder of Evaluation Criteria\n\n1. What the problem attempted (analysis, code, and answered questions) ?\n2. What the problem analysis thought out? (does the program match the plan?)\n3. Does the code execute without syntax error?\n4. Does the code solve the intended problem?\n5. Is the code well written? (easy to understand, modular, and self-documenting, handles errors)\n"
    }
  ],
  "metadata": {
    "anaconda-cloud": {},
    "kernelspec": {
      "name": "python3",
      "display_name": "Python 3",
      "language": "python"
    },
    "language_info": {
      "mimetype": "text/x-python",
      "nbconvert_exporter": "python",
      "name": "python",
      "pygments_lexer": "ipython3",
      "version": "3.5.4",
      "file_extension": ".py",
      "codemirror_mode": {
        "version": 3,
        "name": "ipython"
      }
    }
  },
  "nbformat": 4,
  "nbformat_minor": 1
}